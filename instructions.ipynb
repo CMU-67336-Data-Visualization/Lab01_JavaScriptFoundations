{
 "cells": [
  {
   "cell_type": "markdown",
   "id": "87dae718-409e-42c1-9b47-3a5e80e3c2d3",
   "metadata": {},
   "source": [
    "<h1>Learning the Basics of Javascript Lab</h1>\n",
    "\n",
    "In this lab, we will be learning the basics of Javascript and also learning how to work with Git and GitHub (and reading docs!). \n",
    "\n",
    "Javascript is the scripting language for web pages that allows for the addition of dynamic content.\n",
    "\n",
    "You ***MUST*** follow every step in the lab, do not skip reading over anything! You have been warned and *you* will ultimately be responsible for any issues you encounter down the road if you skip steps!!!"
   ]
  },
  {
   "cell_type": "markdown",
   "id": "39b45c14-775b-48ed-80f7-04210ceada5c",
   "metadata": {},
   "source": [
    "\n",
    "<hr>\n",
    "\n",
    "<h3>Part 1: Hello World!</h3>\n",
    "\n",
    "Throughout the lab, be sure to make commits and push your changes to the remote repository you created for your lab. \n",
    "\n",
    "**You should create this now before beginning the rest of the lab by signing into GitHub.com and create a new *private* repository.**\n",
    "**You must name it `lab-1-67336`.**\n",
    "<br>\n",
    "<br>\n",
    "\n",
    "Add Professor Shihong (username: shihongh) and Katelyn (username: kateyzcodes) as Collaborators in the Settings. \n",
    "\n",
    "[**You must do this step for us to be able to grade your submission!**]"
   ]
  },
  {
   "cell_type": "markdown",
   "id": "ca57b4d7",
   "metadata": {},
   "source": [
    "<hr>\n",
    "<h4><strong>Very Important:</strong></h4>\n",
    "\n",
    "You ***MUST*** use a ***separate*** folder for the lab from the lab folder you will clone from GitHub. This should **not** be inside the cloned folder!\n",
    "We are doing this because we want to go through the steps of creating and linking repositories with Git and keep your repositories private. You will have to move the files from the repository you cloned to the local one you created.\n",
    "<hr>\n",
    "\n",
    "Create a new empty folder for your lab. Open a Terminal window at this folder and run the following command to initialize the local Git repository:"
   ]
  },
  {
   "cell_type": "code",
   "execution_count": null,
   "id": "9abc22c8-08c0-41fe-b46f-1d9f44c763be",
   "metadata": {},
   "outputs": [],
   "source": [
    "git init"
   ]
  },
  {
   "cell_type": "markdown",
   "id": "7c7aa0ad-d84b-4409-a3ae-ba6ca59dc8d5",
   "metadata": {},
   "source": [
    "Run this command in the same terminal to link your local repository to the remote one you created (replace the username and repository name as needed):"
   ]
  },
  {
   "cell_type": "code",
   "execution_count": null,
   "id": "771ff1b5-ce64-4b52-b515-e02d4d6490e9",
   "metadata": {},
   "outputs": [],
   "source": [
    "git remote add origin https://github.com/[your-github-username]/lab-1-67336.git"
   ]
  },
  {
   "cell_type": "markdown",
   "id": "1abc0652",
   "metadata": {},
   "source": [
    "Start a new Terminal window (separate terminal from the one you cloned in) and ensure that Node.js is installed."
   ]
  },
  {
   "cell_type": "code",
   "execution_count": null,
   "id": "e4b8dae6",
   "metadata": {},
   "outputs": [],
   "source": [
    "node -v"
   ]
  },
  {
   "cell_type": "markdown",
   "id": "90625e0e",
   "metadata": {},
   "source": [
    "If Node.js is installled, this will return a version number. If not, go to https://nodejs.org and install the latest version. Next, ensure that VSCode is installed, and if not, install the latest version from https://code.visualstudio.com."
   ]
  },
  {
   "cell_type": "markdown",
   "id": "01a5835c-a7f8-48ed-b3cf-d7e3f9ad0fd4",
   "metadata": {},
   "source": [
    "Now that we have ensured our environment is ready, initiate with the following command to initialize a package.json for the lab:"
   ]
  },
  {
   "cell_type": "code",
   "execution_count": 2,
   "id": "80835036-73e3-4bfd-8081-64bc720171a5",
   "metadata": {},
   "outputs": [
    {
     "data": {
      "application/javascript": "console.log(\"Hello, World!\");\n",
      "text/plain": [
       "<IPython.core.display.Javascript object>"
      ]
     },
     "metadata": {},
     "output_type": "display_data"
    }
   ],
   "source": [
    "npm init -y"
   ]
  },
  {
   "cell_type": "markdown",
   "id": "834ad3bf-0c62-4735-b85a-e04eac627b67",
   "metadata": {},
   "source": [
    "This package.json file will enable us to manage scripts and other dependencies of our project. Open the file in an editor (can be VSCode) and under the \"scripts\" section of the newly created package.json file, add the following script before the `\"test\": \"echo \\\"Error: no test specified\\\" && exit 1\"`:"
   ]
  },
  {
   "cell_type": "code",
   "execution_count": null,
   "id": "3167a4ea-11a2-4a71-9777-8c84a0dd2275",
   "metadata": {},
   "outputs": [],
   "source": [
    "\"start\": \"node index.js\","
   ]
  },
  {
   "cell_type": "markdown",
   "id": "a5255366-8f29-4568-8716-1f08482fdbb1",
   "metadata": {},
   "source": [
    "Next, run the following command in the terminal to create your first JS file:"
   ]
  },
  {
   "cell_type": "code",
   "execution_count": null,
   "id": "0e35fe02-a51f-4658-a7b5-bcb75225667e",
   "metadata": {},
   "outputs": [],
   "source": [
    "touch index.js"
   ]
  },
  {
   "cell_type": "markdown",
   "id": "29eaff92-e49c-4163-9670-d198ccb25b91",
   "metadata": {},
   "source": [
    "Inside this newly created index.js file, add the following \"Hello World\" code:``"
   ]
  },
  {
   "cell_type": "code",
   "execution_count": null,
   "id": "4358a6a9-39f2-49a9-b968-4a44849e21e6",
   "metadata": {},
   "outputs": [],
   "source": [
    "console.log('Hello, World!');"
   ]
  },
  {
   "cell_type": "markdown",
   "id": "c56e0cb2-23bd-48fd-9724-f7440d7301c2",
   "metadata": {},
   "source": [
    "Now test that everything works by running the start script we added earlier to run the index.js file in the terminal:"
   ]
  },
  {
   "cell_type": "code",
   "execution_count": null,
   "id": "3009d35e-ceb4-40f9-9382-fa23edaf49a9",
   "metadata": {},
   "outputs": [],
   "source": [
    "npm start"
   ]
  },
  {
   "cell_type": "markdown",
   "id": "53e7e807-4d0d-44c3-9564-4c2b79836608",
   "metadata": {},
   "source": [
    "Congrats! You just wrote your first \"Hello World\" program in Javascript!\n",
    "\n",
    "Follow the next steps to get the starter files for the coding portion of the lab.\n",
    "\n",
    "<hr>"
   ]
  },
  {
   "cell_type": "markdown",
   "id": "52f7d53b",
   "metadata": {},
   "source": [
    "Now in a separate folder, get the provided starter files by going to https://github.com/CMU-67336-Data-Visualization/Lab01_JavaScriptFoundations and cloning the repository with the following command:"
   ]
  },
  {
   "cell_type": "code",
   "execution_count": null,
   "id": "99952d9f",
   "metadata": {},
   "outputs": [],
   "source": [
    "git clone https://github.com/CMU-67336-Data-Visualization/Lab01_JavaScriptFoundations.git"
   ]
  },
  {
   "cell_type": "markdown",
   "id": "f3b5b425",
   "metadata": {},
   "source": [
    "In the lab folder *you* created, replace your current `index.js` file containing your Hello World with the `index.js` file from the cloned repository and also add the provided `index.html` file to the same folder and you're ready to start writing more code in Javascript! \n",
    "\n",
    "<hr>"
   ]
  },
  {
   "cell_type": "markdown",
   "id": "d0103482",
   "metadata": {},
   "source": [
    "<h3>Part 2: Deployment</h3>"
   ]
  },
  {
   "cell_type": "markdown",
   "id": "5a84fbe9-8415-4211-95de-769bbde16abd",
   "metadata": {},
   "source": [
    "Now that we've finished the coding portion of the lab, it is time to deploy to GitHub Pages! This is a great place to deploy static websites (websites that don't have a backend) for free. \n",
    "\n",
    "[Instructions adapted from https://docs.github.com/en/pages/getting-started-with-github-pages/creating-a-github-pages-site and https://docs.github.com/en/pages/getting-started-with-github-pages/configuring-a-publishing-source-for-your-github-pages-site. ]\n",
    "\n",
    "<hr>\n",
    "<h4>Creating the GitHub Pages Site Repository</h4>\n",
    "\n",
    "1. To begin, open GitHub.com, sign in, and create a new repository.\n",
    "2. Name the repository `[your-github-username].github.io`.\n",
    "> For example, if my username was octocat, I would name the repository `octocat.github.io`.\n",
    "\n",
    "3. Make the visibility public.\n",
    "4. Check off initialize the repository with a README.\n",
    "5. Click create the repository.\n",
    "Now if you go to `[your-github-username].github.io`, you should see the deployed initial website. Follow the next steps to publish the lab repository.\n",
    "\n",
    "<h4>Deploying to the GitHub Pages Site</h4>\n",
    "\n",
    "1. We will be using the main branch as the publishing branch. Go to the lab's repository page on GitHub and click Settings.\n",
    "2. Under settings, in the \"Code and automation\" section of the sidebar, click Pages.\n",
    "3. Under \"Build and deployment\", under \"Source\", select Deploy from a branch.\n",
    "4. Under \"Build and deployment\", use the branch dropdown menu and select a publishing source (we are using main!).\n",
    "5. Use the folder dropdown menu to select a folder for your publishing source (should be /root if it is listed, otherwise skip this step!).\n",
    "6. Click Save.\n",
    "\n",
    "Now if you go to `[your-github-username].github.io/lab-1-67336` (**submit this URL!!!**), you should see the deployed website. The deployment itself may take a little while so wait a little bit to check!"
   ]
  },
  {
   "cell_type": "markdown",
   "id": "8d91058d-6c9b-4c58-9a15-19b9d3c501cd",
   "metadata": {},
   "source": [
    "<hr>\n",
    "\n",
    "When you have completed this lab, submit the index.js file (the one with the challenges), index.html, and package.json file to Canvas as a zipped folder (.zip) named *yourAndrewID-lab1*. There will also be a Google Form link on Canvas to submit both the URL links to your deployed website and your lab repository. Be sure to add Professor Shihong (username: shihongh) and Katelyn (username: kateyzcodes) as Collaborators under the settings for your lab repository (ensure the visibility of your lab is private!) for grading purposes."
   ]
  }
 ],
 "metadata": {
  "kernelspec": {
   "display_name": "Python 3 (ipykernel)",
   "language": "python",
   "name": "python3"
  },
  "language_info": {
   "codemirror_mode": {
    "name": "ipython",
    "version": 3
   },
   "file_extension": ".py",
   "mimetype": "text/x-python",
   "name": "python",
   "nbconvert_exporter": "python",
   "pygments_lexer": "ipython3",
   "version": "3.11.8"
  }
 },
 "nbformat": 4,
 "nbformat_minor": 5
}
